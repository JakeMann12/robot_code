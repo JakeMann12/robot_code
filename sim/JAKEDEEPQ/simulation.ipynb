{
 "cells": [
  {
   "cell_type": "markdown",
   "metadata": {},
   "source": [
    "## IMPORTS"
   ]
  },
  {
   "cell_type": "code",
   "execution_count": 1,
   "metadata": {},
   "outputs": [],
   "source": [
    "import pybullet as p\n",
    "import time\n",
    "import pybullet_data"
   ]
  },
  {
   "cell_type": "code",
   "execution_count": 3,
   "metadata": {},
   "outputs": [],
   "source": [
    "#%% HARDCODED \n",
    "\n",
    "Servo1angle = p.addUserDebugParameter('Servo1', 30, 210, 62.88)\n",
    "Servo2angle = p.addUserDebugParameter('Servo2', 30, 150, 94.32)\n",
    "Servo3angle = p.addUserDebugParameter('Servo3', 25, 160, 50)\n",
    "Servo4angle = p.addUserDebugParameter('Servo4', 20, 220, 147)\n",
    "Servo5angle = p.addUserDebugParameter('Servo5', 20, 178, 98.16)\n",
    "Servo6angle = p.addUserDebugParameter('Servo6', 100, 230, 136)"
   ]
  },
  {
   "cell_type": "code",
   "execution_count": 5,
   "metadata": {},
   "outputs": [
    {
     "ename": "error",
     "evalue": "Only one local in-process GUI/GUI_SERVER connection allowed. Use DIRECT connection mode or start a separate GUI physics server (ExampleBrowser, App_SharedMemoryPhysics_GUI, App_SharedMemoryPhysics_VR) and connect over SHARED_MEMORY, UDP or TCP instead.",
     "output_type": "error",
     "traceback": [
      "\u001b[1;31m---------------------------------------------------------------------------\u001b[0m",
      "\u001b[1;31merror\u001b[0m                                     Traceback (most recent call last)",
      "\u001b[1;32mc:\\Users\\jmann\\Box\\Dook Work\\Robot Learning\\robot_code\\sim\\JAKEDEEPQ\\simulation.ipynb Cell 4\u001b[0m line \u001b[0;36m2\n\u001b[0;32m      <a href='vscode-notebook-cell:/c%3A/Users/jmann/Box/Dook%20Work/Robot%20Learning/robot_code/sim/JAKEDEEPQ/simulation.ipynb#W2sZmlsZQ%3D%3D?line=0'>1</a>\u001b[0m \u001b[39m#%% Load into pybullet!\u001b[39;00m\n\u001b[1;32m----> <a href='vscode-notebook-cell:/c%3A/Users/jmann/Box/Dook%20Work/Robot%20Learning/robot_code/sim/JAKEDEEPQ/simulation.ipynb#W2sZmlsZQ%3D%3D?line=1'>2</a>\u001b[0m physicsClient \u001b[39m=\u001b[39m p\u001b[39m.\u001b[39mconnect(p\u001b[39m.\u001b[39mGUI)\u001b[39m#or p.DIRECT for non-graphical version\u001b[39;00m\n\u001b[0;32m      <a href='vscode-notebook-cell:/c%3A/Users/jmann/Box/Dook%20Work/Robot%20Learning/robot_code/sim/JAKEDEEPQ/simulation.ipynb#W2sZmlsZQ%3D%3D?line=2'>3</a>\u001b[0m p\u001b[39m.\u001b[39msetAdditionalSearchPath(pybullet_data\u001b[39m.\u001b[39mgetDataPath()) \u001b[39m#optionally\u001b[39;00m\n\u001b[0;32m      <a href='vscode-notebook-cell:/c%3A/Users/jmann/Box/Dook%20Work/Robot%20Learning/robot_code/sim/JAKEDEEPQ/simulation.ipynb#W2sZmlsZQ%3D%3D?line=3'>4</a>\u001b[0m p\u001b[39m.\u001b[39msetGravity(\u001b[39m0\u001b[39m,\u001b[39m0\u001b[39m,\u001b[39m-\u001b[39m\u001b[39m10\u001b[39m)\n",
      "\u001b[1;31merror\u001b[0m: Only one local in-process GUI/GUI_SERVER connection allowed. Use DIRECT connection mode or start a separate GUI physics server (ExampleBrowser, App_SharedMemoryPhysics_GUI, App_SharedMemoryPhysics_VR) and connect over SHARED_MEMORY, UDP or TCP instead."
     ]
    }
   ],
   "source": [
    "#%% Load into pybullet!\n",
    "physicsClient = p.connect(p.GUI)#or p.DIRECT for non-graphical version\n",
    "p.setAdditionalSearchPath(pybullet_data.getDataPath()) #optionally\n",
    "p.setGravity(0,0,-10)\n",
    "planeId = p.loadURDF(\"plane.urdf\")\n",
    "StartPos = [0,0,0.18]\n",
    "StartOrientation = p.getQuaternionFromEuler([0,0,0])\n",
    "rexy = p.loadURDF(r\"C:\\Users\\jmann\\Box\\Dook Work\\Robot Learning\\robot_code\\URDFs\\feetasrigidjts\\jake.urdf\",StartPos, StartOrientation, \n",
    "                   # useMaximalCoordinates=1, ## New feature in Pybullet\n",
    "                   flags=p.URDF_USE_INERTIA_FROM_FILE)"
   ]
  },
  {
   "cell_type": "code",
   "execution_count": null,
   "metadata": {},
   "outputs": [],
   "source": [
    "#%% early joint calibration efforts\n",
    "number_of_joints = p.getNumJoints(rexy)\n",
    "print(\"NO. OF JOINTS : \"+str(number_of_joints)) \n",
    "for joint_number in range(number_of_joints):\n",
    "    info = p.getJointInfo(rexy, joint_number)\n",
    "    print(info[0], \": \", info[1]) #tuple of joint data - 25 total but that includes rigid"
   ]
  },
  {
   "cell_type": "code",
   "execution_count": null,
   "metadata": {},
   "outputs": [],
   "source": [
    "#%%BE A BIG STEPPER\n",
    "\n",
    "for i in range (10000):\n",
    "    pos, ori = p.getBasePositionAndOrientation(rexy)\n",
    "    p.applyExternalForce(rexy, 0, [0, 0, 0], pos, p.WORLD_FRAME) # 0 EXTERNAL FORCE- FUN TEST\n",
    "    p.stepSimulation()\n",
    "    if i //100 == i / 100:\n",
    "        print(pos,ori)\n",
    "    time.sleep(1./240.)\n",
    "Pos, Orn = p.getBasePositionAndOrientation(rexy)\n",
    "\n",
    "print(Pos,Orn)\n",
    "# FROM THIS, WE'VE LEARNED THAT WE WANT THE Z COORD TO BE MORE THAN ~.2 AT ALL TIMES- ELSE, FALL\n",
    "p.disconnect()"
   ]
  }
 ],
 "metadata": {
  "kernelspec": {
   "display_name": "robots",
   "language": "python",
   "name": "python3"
  },
  "language_info": {
   "codemirror_mode": {
    "name": "ipython",
    "version": 3
   },
   "file_extension": ".py",
   "mimetype": "text/x-python",
   "name": "python",
   "nbconvert_exporter": "python",
   "pygments_lexer": "ipython3",
   "version": "3.11.2"
  }
 },
 "nbformat": 4,
 "nbformat_minor": 2
}
